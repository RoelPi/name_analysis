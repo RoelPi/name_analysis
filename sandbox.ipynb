{
  "nbformat": 4,
  "nbformat_minor": 0,
  "metadata": {
    "colab": {
      "name": "sandbox.ipynb",
      "provenance": [],
      "include_colab_link": true
    },
    "kernelspec": {
      "name": "python3",
      "display_name": "Python 3"
    }
  },
  "cells": [
    {
      "cell_type": "markdown",
      "metadata": {
        "id": "view-in-github",
        "colab_type": "text"
      },
      "source": [
        "<a href=\"https://colab.research.google.com/github/RoelPi/name_analysis/blob/master/sandbox.ipynb\" target=\"_parent\"><img src=\"https://colab.research.google.com/assets/colab-badge.svg\" alt=\"Open In Colab\"/></a>"
      ]
    },
    {
      "cell_type": "code",
      "metadata": {
        "id": "NAOkxk7sk6Hz",
        "colab_type": "code",
        "colab": {}
      },
      "source": [
        "import pandas as pd"
      ],
      "execution_count": 0,
      "outputs": []
    },
    {
      "cell_type": "code",
      "metadata": {
        "id": "FKo_1hWYp44K",
        "colab_type": "code",
        "colab": {}
      },
      "source": [
        "df_f = pd.read_excel('https://statbel.fgov.be/sites/default/files/files/documents/bevolking/5.10%20Namen%20en%20voornamen/5.10.%203%20Voornamen%20meisjes%20en%20jongens/TA_BIRTHS_FEMALE_2009_2018.xlsx')\n",
        "\n",
        "df_m = pd.read_excel('https://statbel.fgov.be/sites/default/files/files/documents/bevolking/5.10%20Namen%20en%20voornamen/5.10.%203%20Voornamen%20meisjes%20en%20jongens/TA_BIRTHS_MALE_2009_2018.xlsx')\n",
        "\n",
        "df_all_m = pd.read_excel('https://statbel.fgov.be/sites/default/files/files/documents/bevolking/5.10%20Namen%20en%20voornamen/5.10.%203%20Voornamen%20meisjes%20en%20jongens/Firstnames_birth_1995-.xlsx', sheet_name = 0)\n",
        "\n",
        "df_all_f = pd.read_excel('https://statbel.fgov.be/sites/default/files/files/documents/bevolking/5.10%20Namen%20en%20voornamen/5.10.%203%20Voornamen%20meisjes%20en%20jongens/Firstnames_birth_1995-.xlsx', sheet_name = 1)"
      ],
      "execution_count": 0,
      "outputs": []
    },
    {
      "cell_type": "markdown",
      "metadata": {
        "id": "0dhiRO-E1CwE",
        "colab_type": "text"
      },
      "source": [
        ""
      ]
    },
    {
      "cell_type": "code",
      "metadata": {
        "id": "B-fJPRahvJkc",
        "colab_type": "code",
        "colab": {}
      },
      "source": [
        "df_all_m = df_all_m.iloc[:,[4,5]]\n",
        "df_all_f = df_all_f.iloc[:,[4,5]]\n",
        "\n",
        "df_all_m.columns = ['naam','aantal']\n",
        "df_all_m['geslacht'] = 'm'\n",
        "\n",
        "df_all_f.columns = ['naam','aantal']\n",
        "df_all_f['geslacht'] = 'v'\n",
        "\n",
        "df_all = df_all_m.append(df_all_f)\n",
        "df_all = df_all.set_index('naam')"
      ],
      "execution_count": 0,
      "outputs": []
    },
    {
      "cell_type": "code",
      "metadata": {
        "id": "aNHR391U2VXT",
        "colab_type": "code",
        "colab": {}
      },
      "source": [
        "df_all = df_all.sort_values('aantal', ascending = False)\n",
        "df_all = df_all.dropna(axis = 0, how = 'any')"
      ],
      "execution_count": 0,
      "outputs": []
    },
    {
      "cell_type": "code",
      "metadata": {
        "id": "bktRkygf0R9M",
        "colab_type": "code",
        "colab": {
          "base_uri": "https://localhost:8080/",
          "height": 238
        },
        "outputId": "60073aa4-179d-4c43-afb5-a735a2209d4c"
      },
      "source": [
        "df_all.head()"
      ],
      "execution_count": 39,
      "outputs": [
        {
          "output_type": "execute_result",
          "data": {
            "text/html": [
              "<div>\n",
              "<style scoped>\n",
              "    .dataframe tbody tr th:only-of-type {\n",
              "        vertical-align: middle;\n",
              "    }\n",
              "\n",
              "    .dataframe tbody tr th {\n",
              "        vertical-align: top;\n",
              "    }\n",
              "\n",
              "    .dataframe thead th {\n",
              "        text-align: right;\n",
              "    }\n",
              "</style>\n",
              "<table border=\"1\" class=\"dataframe\">\n",
              "  <thead>\n",
              "    <tr style=\"text-align: right;\">\n",
              "      <th></th>\n",
              "      <th>aantal</th>\n",
              "      <th>geslacht</th>\n",
              "    </tr>\n",
              "    <tr>\n",
              "      <th>naam</th>\n",
              "      <th></th>\n",
              "      <th></th>\n",
              "    </tr>\n",
              "  </thead>\n",
              "  <tbody>\n",
              "    <tr>\n",
              "      <th>Emma</th>\n",
              "      <td>8747.0</td>\n",
              "      <td>v</td>\n",
              "    </tr>\n",
              "    <tr>\n",
              "      <th>Julie</th>\n",
              "      <td>8012.0</td>\n",
              "      <td>v</td>\n",
              "    </tr>\n",
              "    <tr>\n",
              "      <th>Laura</th>\n",
              "      <td>8010.0</td>\n",
              "      <td>v</td>\n",
              "    </tr>\n",
              "    <tr>\n",
              "      <th>Marie</th>\n",
              "      <td>7694.0</td>\n",
              "      <td>v</td>\n",
              "    </tr>\n",
              "    <tr>\n",
              "      <th>Thomas</th>\n",
              "      <td>7514.0</td>\n",
              "      <td>m</td>\n",
              "    </tr>\n",
              "  </tbody>\n",
              "</table>\n",
              "</div>"
            ],
            "text/plain": [
              "        aantal geslacht\n",
              "naam                   \n",
              "Emma    8747.0        v\n",
              "Julie   8012.0        v\n",
              "Laura   8010.0        v\n",
              "Marie   7694.0        v\n",
              "Thomas  7514.0        m"
            ]
          },
          "metadata": {
            "tags": []
          },
          "execution_count": 39
        }
      ]
    },
    {
      "cell_type": "code",
      "metadata": {
        "id": "BEYgNZn900-q",
        "colab_type": "code",
        "colab": {
          "base_uri": "https://localhost:8080/",
          "height": 256
        },
        "outputId": "7300cfd8-3938-4672-ac87-bab72787af1d"
      },
      "source": [
        "df_all['eerste_letter'] = df_all.index.str[0:1].str.upper()\n",
        "df_all['laatste_letter'] = df_all.index.str[-1:].str.upper()\n",
        "df_all['aantal_tekens'] = df_all.index.str.len()\n",
        "df_all['aantal_tekens']"
      ],
      "execution_count": 59,
      "outputs": [
        {
          "output_type": "execute_result",
          "data": {
            "text/plain": [
              "naam\n",
              "Emma           4\n",
              "Julie          5\n",
              "Laura          5\n",
              "Marie          5\n",
              "Thomas         6\n",
              "              ..\n",
              "Peppe          5\n",
              "Pawel          5\n",
              "Paul-Henri    10\n",
              "Pasquinel      9\n",
              "Éléonore       8\n",
              "Name: aantal_tekens, Length: 14917, dtype: int64"
            ]
          },
          "metadata": {
            "tags": []
          },
          "execution_count": 59
        }
      ]
    }
  ]
}