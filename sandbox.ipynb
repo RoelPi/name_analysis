{
  "nbformat": 4,
  "nbformat_minor": 0,
  "metadata": {
    "colab": {
      "name": "sandbox.ipynb",
      "provenance": [],
      "include_colab_link": true
    },
    "kernelspec": {
      "name": "python3",
      "display_name": "Python 3"
    }
  },
  "cells": [
    {
      "cell_type": "markdown",
      "metadata": {
        "id": "view-in-github",
        "colab_type": "text"
      },
      "source": [
        "<a href=\"https://colab.research.google.com/github/RoelPi/name_analysis/blob/master/sandbox.ipynb\" target=\"_parent\"><img src=\"https://colab.research.google.com/assets/colab-badge.svg\" alt=\"Open In Colab\"/></a>"
      ]
    },
    {
      "cell_type": "code",
      "metadata": {
        "id": "NAOkxk7sk6Hz",
        "colab_type": "code",
        "colab": {
          "base_uri": "https://localhost:8080/",
          "height": 54
        },
        "outputId": "ec369bdc-3519-4894-d256-f2e4cfa433bd"
      },
      "source": [
        "gdir = '/content/gdrive'\n",
        "import pandas as pd\n",
        "from google.colab import drive\n",
        "drive.mount(gdir)\n",
        "import glob\n",
        "import matplotlib.pyplot as plt\n",
        "from pandas.plotting import register_matplotlib_converters\n",
        "register_matplotlib_converters()\n",
        "\n",
        "!pip install unidecode\n",
        "from unidecode import unidecode\n",
        "\n",
        "from math import pi"
      ],
      "execution_count": 157,
      "outputs": [
        {
          "output_type": "stream",
          "text": [
            "Drive already mounted at /content/gdrive; to attempt to forcibly remount, call drive.mount(\"/content/gdrive\", force_remount=True).\n",
            "Requirement already satisfied: unidecode in /usr/local/lib/python3.6/dist-packages (1.1.1)\n"
          ],
          "name": "stdout"
        }
      ]
    },
    {
      "cell_type": "code",
      "metadata": {
        "id": "FKo_1hWYp44K",
        "colab_type": "code",
        "colab": {}
      },
      "source": [
        "path = r'/content/gdrive/My Drive/Blog/names_analysis/' # use your path\n",
        "dir_m = glob.glob(path + 'm*.csv')\n",
        "dir_f = glob.glob(path + 'v*.csv')\n",
        "\n",
        "li = []\n",
        "\n",
        "for filename in dir_m:\n",
        "    df = pd.read_csv(filename, index_col=None, header=0)\n",
        "    li.append(df)\n",
        "\n",
        "df_all_m = pd.concat(li, axis=0, ignore_index=True)\n",
        "\n",
        "li = []\n",
        "\n",
        "for filename in dir_f:\n",
        "    df = pd.read_csv(filename, index_col=None, header=0)\n",
        "    li.append(df)\n",
        "\n",
        "df_all_f = pd.concat(li, axis=0, ignore_index=True)\n",
        "df_all_f"
      ],
      "execution_count": 0,
      "outputs": []
    },
    {
      "cell_type": "markdown",
      "metadata": {
        "id": "0dhiRO-E1CwE",
        "colab_type": "text"
      },
      "source": [
        ""
      ]
    },
    {
      "cell_type": "code",
      "metadata": {
        "id": "B-fJPRahvJkc",
        "colab_type": "code",
        "colab": {}
      },
      "source": [
        "df_all_m.columns = ['naam','jaar','aantal']\n",
        "df_all_m['geslacht'] = 'm'\n",
        "\n",
        "df_all_f.columns = ['naam','jaar','aantal']\n",
        "df_all_f['geslacht'] = 'v'\n",
        "\n",
        "df_all = df_all_m.append(df_all_f)\n",
        "df_all = df_all.set_index('naam')"
      ],
      "execution_count": 0,
      "outputs": []
    },
    {
      "cell_type": "code",
      "metadata": {
        "id": "aNHR391U2VXT",
        "colab_type": "code",
        "colab": {}
      },
      "source": [
        "df_all = df_all.sort_values('aantal', ascending = False)\n",
        "df_all = df_all.dropna(axis = 0, how = 'any')\n",
        "df_all['jaar'] = pd.to_datetime(df_all['jaar'],format = '%Y')"
      ],
      "execution_count": 0,
      "outputs": []
    },
    {
      "cell_type": "code",
      "metadata": {
        "id": "BEYgNZn900-q",
        "colab_type": "code",
        "colab": {
          "base_uri": "https://localhost:8080/",
          "height": 238
        },
        "outputId": "e89e88e7-5978-4a7c-9078-a9c2319838a9"
      },
      "source": [
        "df_all['eerste_letter'] = df_all.index.str[0:1].str.upper().map(unidecode)\n",
        "df_all['laatste_letter'] = df_all.index.str[-1:].str.upper().map(unidecode)\n",
        "df_all['aantal_tekens'] = df_all.index.str.len()\n",
        "df_all.head()"
      ],
      "execution_count": 146,
      "outputs": [
        {
          "output_type": "execute_result",
          "data": {
            "text/html": [
              "<div>\n",
              "<style scoped>\n",
              "    .dataframe tbody tr th:only-of-type {\n",
              "        vertical-align: middle;\n",
              "    }\n",
              "\n",
              "    .dataframe tbody tr th {\n",
              "        vertical-align: top;\n",
              "    }\n",
              "\n",
              "    .dataframe thead th {\n",
              "        text-align: right;\n",
              "    }\n",
              "</style>\n",
              "<table border=\"1\" class=\"dataframe\">\n",
              "  <thead>\n",
              "    <tr style=\"text-align: right;\">\n",
              "      <th></th>\n",
              "      <th>jaar</th>\n",
              "      <th>aantal</th>\n",
              "      <th>geslacht</th>\n",
              "      <th>eerste_letter</th>\n",
              "      <th>laatste_letter</th>\n",
              "      <th>aantal_tekens</th>\n",
              "      <th>totaal_tekens</th>\n",
              "    </tr>\n",
              "    <tr>\n",
              "      <th>naam</th>\n",
              "      <th></th>\n",
              "      <th></th>\n",
              "      <th></th>\n",
              "      <th></th>\n",
              "      <th></th>\n",
              "      <th></th>\n",
              "      <th></th>\n",
              "    </tr>\n",
              "  </thead>\n",
              "  <tbody>\n",
              "    <tr>\n",
              "      <th>Laura</th>\n",
              "      <td>1995-01-01</td>\n",
              "      <td>811</td>\n",
              "      <td>v</td>\n",
              "      <td>L</td>\n",
              "      <td>A</td>\n",
              "      <td>5</td>\n",
              "      <td>4055</td>\n",
              "    </tr>\n",
              "    <tr>\n",
              "      <th>Laura</th>\n",
              "      <td>1996-01-01</td>\n",
              "      <td>772</td>\n",
              "      <td>v</td>\n",
              "      <td>L</td>\n",
              "      <td>A</td>\n",
              "      <td>5</td>\n",
              "      <td>3860</td>\n",
              "    </tr>\n",
              "    <tr>\n",
              "      <th>Laura</th>\n",
              "      <td>1997-01-01</td>\n",
              "      <td>673</td>\n",
              "      <td>v</td>\n",
              "      <td>L</td>\n",
              "      <td>A</td>\n",
              "      <td>5</td>\n",
              "      <td>3365</td>\n",
              "    </tr>\n",
              "    <tr>\n",
              "      <th>Laura</th>\n",
              "      <td>1998-01-01</td>\n",
              "      <td>597</td>\n",
              "      <td>v</td>\n",
              "      <td>L</td>\n",
              "      <td>A</td>\n",
              "      <td>5</td>\n",
              "      <td>2985</td>\n",
              "    </tr>\n",
              "    <tr>\n",
              "      <th>Thomas</th>\n",
              "      <td>1996-01-01</td>\n",
              "      <td>582</td>\n",
              "      <td>m</td>\n",
              "      <td>T</td>\n",
              "      <td>S</td>\n",
              "      <td>6</td>\n",
              "      <td>3492</td>\n",
              "    </tr>\n",
              "  </tbody>\n",
              "</table>\n",
              "</div>"
            ],
            "text/plain": [
              "             jaar  aantal geslacht  ... laatste_letter aantal_tekens  totaal_tekens\n",
              "naam                                ...                                            \n",
              "Laura  1995-01-01     811        v  ...              A             5           4055\n",
              "Laura  1996-01-01     772        v  ...              A             5           3860\n",
              "Laura  1997-01-01     673        v  ...              A             5           3365\n",
              "Laura  1998-01-01     597        v  ...              A             5           2985\n",
              "Thomas 1996-01-01     582        m  ...              S             6           3492\n",
              "\n",
              "[5 rows x 7 columns]"
            ]
          },
          "metadata": {
            "tags": []
          },
          "execution_count": 146
        }
      ]
    },
    {
      "cell_type": "code",
      "metadata": {
        "id": "kjE9kRQOPRIG",
        "colab_type": "code",
        "colab": {}
      },
      "source": [
        "df_all['totaal_tekens'] = df_all['aantal'] * df_all['aantal_tekens']\n",
        "df_plot1 = df_all.groupby(['geslacht','jaar'])[['aantal','totaal_tekens']].sum()\n",
        "df_plot1['gemiddelde_lengte'] = df_plot1['totaal_tekens'] / df_plot1['aantal']\n",
        "df_plot1 = df_plot1.reset_index().set_index('jaar')"
      ],
      "execution_count": 0,
      "outputs": []
    },
    {
      "cell_type": "code",
      "metadata": {
        "id": "AILZpx4gTnTi",
        "colab_type": "code",
        "colab": {
          "base_uri": "https://localhost:8080/",
          "height": 265
        },
        "outputId": "23e467e6-dd6e-46cc-b882-59f6682abfa4"
      },
      "source": [
        "fix, ax = plt.subplots()\n",
        "ax.plot(df_plot1[df_plot1['geslacht'] == 'v'].index, \\\n",
        "        df_plot1[df_plot1['geslacht'] == 'v']['gemiddelde_lengte'], \\\n",
        "        linestyle = '--', \\\n",
        "        marker = 'o', \\\n",
        "        color = 'r')\n",
        "ax.plot(df_plot1[df_plot1['geslacht'] == 'm'].index, \n",
        "        df_plot1[df_plot1['geslacht'] == 'm']['gemiddelde_lengte'], \\\n",
        "        linestyle = '--', \\\n",
        "        marker = 'x', \\\n",
        "        color = 'b')\n",
        "plt.show()"
      ],
      "execution_count": 131,
      "outputs": [
        {
          "output_type": "display_data",
          "data": {
            "image/png": "[encoded data removed]",
            "text/plain": [
              "<Figure size 432x288 with 1 Axes>"
            ]
          },
          "metadata": {
            "tags": []
          }
        }
      ]
    },
    {
      "cell_type": "code",
      "metadata": {
        "id": "fQswtAXOXbab",
        "colab_type": "code",
        "colab": {}
      },
      "source": [
        "df_plot2 = df_all.groupby(['geslacht','eerste_letter'])['aantal'].sum()\n",
        "df_plot2 = df_plot2.reset_index().set_index('eerste_letter')\n",
        "df_plot2"
      ],
      "execution_count": 0,
      "outputs": []
    },
    {
      "cell_type": "code",
      "metadata": {
        "id": "pS9G2fv0Z3NM",
        "colab_type": "code",
        "colab": {}
      },
      "source": [
        "letters = list(df_plot2[df_plot2.geslacht == 'v'].index)\n",
        "N = len(letters)\n",
        "\n",
        "# What will be the angle of each axis in the plot? (we divide the plot / number of variable)\n",
        "angles = [n / float(N) * 2 * pi for n in range(N)]\n",
        "angles += angles[:1]\n",
        " \n",
        "# Initialise the spider plot\n",
        "ax = plt.subplot(111, polar=True)\n",
        " \n",
        "# If you want the first axis to be on top:\n",
        "ax.set_theta_offset(pi / 2)\n",
        "ax.set_theta_direction(-1)\n",
        " \n",
        "# Draw one axe per variable + add labels labels yet\n",
        "plt.xticks(angles[:-1], letters)\n",
        " \n",
        "# Draw ylabels\n",
        "ax.set_yscale('log')\n",
        "ax.set_rlabel_position(0)\n",
        "\n",
        "plt.yticks([10,100,1000,10000], ['10','100','1000','10000'], color=\"grey\", size=7)\n",
        "plt.ylim(1,50000)\n",
        "\n",
        "# Ind1\n",
        "values=df_plot2[df_plot2.geslacht == 'm']['aantal'].values.flatten().tolist()\n",
        "values += values[:1]\n",
        "ax.plot(angles, values, linewidth=1, linestyle='solid', label='jongens')\n",
        "ax.fill(angles, values, 'b', alpha=0.1)\n",
        "\n",
        "# Ind2\n",
        "values = df_plot2[df_plot2.geslacht == 'v']['aantal'].values.flatten().tolist()\n",
        "values += values[:1]\n",
        "ax.plot(angles, values, linewidth=1, linestyle='solid', label='meisjes')\n",
        "ax.fill(angles, values, 'r', alpha=0.1)\n",
        "\n",
        "plt.legend(loc='upper right', bbox_to_anchor=(0.1, 0.1))"
      ],
      "execution_count": 0,
      "outputs": []
    }
  ]
}